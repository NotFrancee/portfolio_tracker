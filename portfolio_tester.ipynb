{
 "cells": [
  {
   "cell_type": "code",
   "execution_count": 44,
   "id": "a85aacee-d10b-41c8-a9f0-bec84dadc699",
   "metadata": {},
   "outputs": [],
   "source": [
    "from alpha_vantage.timeseries import TimeSeries\n",
    "import csv\n",
    "import os\n",
    "import datetime\n",
    "import importlib\n",
    "\n",
    "import excel_interface\n",
    "import classes.portfolio\n",
    "import classes.trade\n",
    "import classes.position\n",
    "import market_interface"
   ]
  },
  {
   "cell_type": "code",
   "execution_count": 45,
   "id": "93b3cf39-3c09-4d0f-b7eb-33524fc0bbc0",
   "metadata": {},
   "outputs": [
    {
     "name": "stdout",
     "output_type": "stream",
     "text": [
      "initializing portfolio...\n",
      "\tcomputed positions...\n",
      "\tupdating mkt prices...\n",
      "\tretrieving prices: AAPL GME -> retrieved all prices\n"
     ]
    },
    {
     "ename": "TypeError",
     "evalue": "Value must be a list, tuple, range or generator, or a dict. Supplied value is <class 'dict_values'>",
     "output_type": "error",
     "traceback": [
      "\u001b[1;31m---------------------------------------------------------------------------\u001b[0m",
      "\u001b[1;31mTypeError\u001b[0m                                 Traceback (most recent call last)",
      "Cell \u001b[1;32mIn[45], line 7\u001b[0m\n\u001b[0;32m      4\u001b[0m importlib\u001b[38;5;241m.\u001b[39mreload(classes\u001b[38;5;241m.\u001b[39mposition)\n\u001b[0;32m      5\u001b[0m importlib\u001b[38;5;241m.\u001b[39mreload(market_interface)\n\u001b[1;32m----> 7\u001b[0m portfolio \u001b[38;5;241m=\u001b[39m \u001b[43mclasses\u001b[49m\u001b[38;5;241;43m.\u001b[39;49m\u001b[43mportfolio\u001b[49m\u001b[38;5;241;43m.\u001b[39;49m\u001b[43mPortfolio\u001b[49m\u001b[43m(\u001b[49m\u001b[43m)\u001b[49m\n",
      "File \u001b[1;32m~\\Documents\\strategies_py\\portfolio_tracker\\classes\\portfolio.py:22\u001b[0m, in \u001b[0;36mPortfolio.__init__\u001b[1;34m(self)\u001b[0m\n\u001b[0;32m     19\u001b[0m \u001b[38;5;28mself\u001b[39m\u001b[38;5;241m.\u001b[39mtrades \u001b[38;5;241m=\u001b[39m \u001b[38;5;28mself\u001b[39m\u001b[38;5;241m.\u001b[39mdata_handler\u001b[38;5;241m.\u001b[39mretrieve_trades()\n\u001b[0;32m     20\u001b[0m \u001b[38;5;28mself\u001b[39m\u001b[38;5;241m.\u001b[39mpositions: \u001b[38;5;28mdict\u001b[39m[\u001b[38;5;28mstr\u001b[39m, Position] \u001b[38;5;241m=\u001b[39m {}\n\u001b[1;32m---> 22\u001b[0m \u001b[38;5;28;43mself\u001b[39;49m\u001b[38;5;241;43m.\u001b[39;49m\u001b[43m_initialize_portfolio\u001b[49m\u001b[43m(\u001b[49m\u001b[43m)\u001b[49m\n",
      "File \u001b[1;32m~\\Documents\\strategies_py\\portfolio_tracker\\classes\\portfolio.py:28\u001b[0m, in \u001b[0;36mPortfolio._initialize_portfolio\u001b[1;34m(self)\u001b[0m\n\u001b[0;32m     26\u001b[0m \u001b[38;5;28mself\u001b[39m\u001b[38;5;241m.\u001b[39mcompute_positions()\n\u001b[0;32m     27\u001b[0m \u001b[38;5;28mself\u001b[39m\u001b[38;5;241m.\u001b[39mupdate_live_prices()\n\u001b[1;32m---> 28\u001b[0m \u001b[38;5;28;43mself\u001b[39;49m\u001b[38;5;241;43m.\u001b[39;49m\u001b[43mdata_handler\u001b[49m\u001b[38;5;241;43m.\u001b[39;49m\u001b[43mdump_positions\u001b[49m\u001b[43m(\u001b[49m\u001b[38;5;28;43mself\u001b[39;49m\u001b[38;5;241;43m.\u001b[39;49m\u001b[43mpositions\u001b[49m\u001b[38;5;241;43m.\u001b[39;49m\u001b[43mvalues\u001b[49m\u001b[43m(\u001b[49m\u001b[43m)\u001b[49m\u001b[43m)\u001b[49m\n\u001b[0;32m     29\u001b[0m \u001b[38;5;28mprint\u001b[39m(\u001b[38;5;124m\"\u001b[39m\u001b[38;5;124m...initialized portfolio!\u001b[39m\u001b[38;5;124m\"\u001b[39m)\n",
      "File \u001b[1;32m~\\Documents\\strategies_py\\portfolio_tracker\\excel_interface.py:66\u001b[0m, in \u001b[0;36mExcelInterface.dump_positions\u001b[1;34m(self, positions)\u001b[0m\n\u001b[0;32m     64\u001b[0m \u001b[38;5;28mself\u001b[39m\u001b[38;5;241m.\u001b[39mwb\u001b[38;5;241m.\u001b[39mcreate_sheet(positions_ws_name, \u001b[38;5;241m0\u001b[39m)\n\u001b[0;32m     65\u001b[0m ws \u001b[38;5;241m=\u001b[39m \u001b[38;5;28mself\u001b[39m\u001b[38;5;241m.\u001b[39mwb[positions_ws_name]\n\u001b[1;32m---> 66\u001b[0m \u001b[43mws\u001b[49m\u001b[38;5;241;43m.\u001b[39;49m\u001b[43mappend\u001b[49m\u001b[43m(\u001b[49m\u001b[43mPosition\u001b[49m\u001b[38;5;241;43m.\u001b[39;49m\u001b[43mto_row_columns\u001b[49m\u001b[38;5;241;43m.\u001b[39;49m\u001b[43mvalues\u001b[49m\u001b[43m(\u001b[49m\u001b[43m)\u001b[49m\u001b[43m)\u001b[49m\n\u001b[0;32m     68\u001b[0m \u001b[38;5;28mself\u001b[39m\u001b[38;5;241m.\u001b[39mwb\u001b[38;5;241m.\u001b[39mactive \u001b[38;5;241m=\u001b[39m ws\n\u001b[0;32m     69\u001b[0m \u001b[38;5;28;01mfor\u001b[39;00m position \u001b[38;5;129;01min\u001b[39;00m positions:\n",
      "File \u001b[1;32m~\\AppData\\Local\\anaconda3\\lib\\site-packages\\openpyxl\\worksheet\\worksheet.py:676\u001b[0m, in \u001b[0;36mWorksheet.append\u001b[1;34m(self, iterable)\u001b[0m\n\u001b[0;32m    673\u001b[0m         \u001b[38;5;28mself\u001b[39m\u001b[38;5;241m.\u001b[39m_cells[(row_idx, col_idx)] \u001b[38;5;241m=\u001b[39m cell\n\u001b[0;32m    675\u001b[0m \u001b[38;5;28;01melse\u001b[39;00m:\n\u001b[1;32m--> 676\u001b[0m     \u001b[38;5;28;43mself\u001b[39;49m\u001b[38;5;241;43m.\u001b[39;49m\u001b[43m_invalid_row\u001b[49m\u001b[43m(\u001b[49m\u001b[43miterable\u001b[49m\u001b[43m)\u001b[49m\n\u001b[0;32m    678\u001b[0m \u001b[38;5;28mself\u001b[39m\u001b[38;5;241m.\u001b[39m_current_row \u001b[38;5;241m=\u001b[39m row_idx\n",
      "File \u001b[1;32m~\\AppData\\Local\\anaconda3\\lib\\site-packages\\openpyxl\\worksheet\\worksheet.py:812\u001b[0m, in \u001b[0;36mWorksheet._invalid_row\u001b[1;34m(self, iterable)\u001b[0m\n\u001b[0;32m    811\u001b[0m \u001b[38;5;28;01mdef\u001b[39;00m \u001b[38;5;21m_invalid_row\u001b[39m(\u001b[38;5;28mself\u001b[39m, iterable):\n\u001b[1;32m--> 812\u001b[0m     \u001b[38;5;28;01mraise\u001b[39;00m \u001b[38;5;167;01mTypeError\u001b[39;00m(\u001b[38;5;124m'\u001b[39m\u001b[38;5;124mValue must be a list, tuple, range or generator, or a dict. Supplied value is \u001b[39m\u001b[38;5;132;01m{0}\u001b[39;00m\u001b[38;5;124m'\u001b[39m\u001b[38;5;241m.\u001b[39mformat(\n\u001b[0;32m    813\u001b[0m         \u001b[38;5;28mtype\u001b[39m(iterable))\n\u001b[0;32m    814\u001b[0m                     )\n",
      "\u001b[1;31mTypeError\u001b[0m: Value must be a list, tuple, range or generator, or a dict. Supplied value is <class 'dict_values'>"
     ]
    }
   ],
   "source": [
    "importlib.reload(excel_interface) \n",
    "importlib.reload(classes.trade)\n",
    "importlib.reload(classes.portfolio) \n",
    "importlib.reload(classes.position)\n",
    "importlib.reload(market_interface)\n",
    "\n",
    "portfolio = classes.portfolio.Portfolio()"
   ]
  },
  {
   "cell_type": "code",
   "execution_count": 43,
   "id": "b7d26426-277f-4130-92f7-bf606e87022e",
   "metadata": {
    "tags": []
   },
   "outputs": [
    {
     "name": "stdout",
     "output_type": "stream",
     "text": [
      "Summary for Position on AAPL\n",
      "Ticker: AAPL\n",
      "Broker: IBKR\n",
      "Currency: EUR\n",
      "Amount: 20.0\n",
      "Cost Basis: 2611.0\n",
      "Unit Cost Basis: 130.55\n",
      "Last Price: 193.99000549316406\n",
      "Market Value: 3879.8001098632812\n",
      "Unreal. PnL: 1268.8001098632812\n",
      "Real. PnL: 8367.0\n",
      "Active: True\n",
      "----------------------------------------------------------------------------------------------------\n",
      "Trades\n",
      "           action  amount  price  transaction_costs  cost_basis  unit_cost_basis  open_amount\n",
      "date                                                                                         \n",
      "2023-07-12    buy    30.0  150.5                1.0      4516.0       150.533333         30.0\n",
      "2023-07-15    buy    50.0  130.5                1.0      6526.0       130.520000         50.0\n",
      "2023-07-17   sell    60.0  140.0                1.0      8399.0       139.983333         60.0\n",
      "====================================================================================================\n"
     ]
    }
   ],
   "source": [
    "pos = portfolio.positions['AAPL']\n",
    "print(pos)"
   ]
  },
  {
   "cell_type": "code",
   "execution_count": null,
   "id": "0f73c1f3-18f0-4cf9-87bf-ce5f065c547f",
   "metadata": {},
   "outputs": [],
   "source": []
  }
 ],
 "metadata": {
  "kernelspec": {
   "display_name": "Python 3 (ipykernel)",
   "language": "python",
   "name": "python3"
  },
  "language_info": {
   "codemirror_mode": {
    "name": "ipython",
    "version": 3
   },
   "file_extension": ".py",
   "mimetype": "text/x-python",
   "name": "python",
   "nbconvert_exporter": "python",
   "pygments_lexer": "ipython3",
   "version": "3.10.9"
  }
 },
 "nbformat": 4,
 "nbformat_minor": 5
}
