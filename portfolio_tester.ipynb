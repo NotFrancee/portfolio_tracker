{
 "cells": [
  {
   "cell_type": "code",
   "execution_count": 81,
   "id": "a85aacee-d10b-41c8-a9f0-bec84dadc699",
   "metadata": {},
   "outputs": [],
   "source": [
    "from alpha_vantage.timeseries import TimeSeries\n",
    "import csv\n",
    "import os\n",
    "import datetime\n",
    "import importlib\n",
    "\n",
    "import data_handler\n",
    "import portfolio_class\n",
    "import trade_class\n",
    "import position_class"
   ]
  },
  {
   "cell_type": "code",
   "execution_count": 85,
   "id": "93b3cf39-3c09-4d0f-b7eb-33524fc0bbc0",
   "metadata": {},
   "outputs": [
    {
     "name": "stdout",
     "output_type": "stream",
     "text": [
      "initializing position data for AAPL...\n",
      "           ticker action  amount  price  transaction_costs  cost_basis  \\\n",
      "date                                                                     \n",
      "2023-07-12   AAPL    buy    30.0  150.5                1.0      4516.0   \n",
      "2023-07-15   AAPL    buy    50.0  130.5                1.0      6526.0   \n",
      "2023-07-17   AAPL   sell    60.0  140.0                1.0      8399.0   \n",
      "\n",
      "            unit_cost_basis  open_amount  \n",
      "date                                      \n",
      "2023-07-12       150.533333         30.0  \n",
      "2023-07-15       130.520000         50.0  \n",
      "2023-07-17       139.983333         60.0  \n",
      "analyzing one of the previous trades\n",
      "\tremaining quantity: 60.0\n",
      "analyzing one of the previous trades\n",
      "\tremaining quantity: 30.0\n",
      "           ticker action  amount  price  transaction_costs  cost_basis  \\\n",
      "date                                                                     \n",
      "2023-07-12   AAPL    buy    30.0  150.5                1.0      4516.0   \n",
      "2023-07-15   AAPL    buy    50.0  130.5                1.0      6526.0   \n",
      "\n",
      "            unit_cost_basis  open_amount  \n",
      "date                                      \n",
      "2023-07-12       150.533333          0.0  \n",
      "2023-07-15       130.520000         20.0  \n",
      "updated positions!\n"
     ]
    }
   ],
   "source": [
    "importlib.reload(data_handler) \n",
    "importlib.reload(trade_class)\n",
    "importlib.reload(portfolio_class) \n",
    "importlib.reload(position_class)\n",
    "\n",
    "portfolio = portfolio_class.Portfolio()\n",
    "portfolio.compute_positions()\n",
    "pos = portfolio.positions['AAPL']"
   ]
  },
  {
   "cell_type": "code",
   "execution_count": 78,
   "id": "b7d26426-277f-4130-92f7-bf606e87022e",
   "metadata": {},
   "outputs": [
    {
     "name": "stdout",
     "output_type": "stream",
     "text": [
      "Summary for Position on AAPL\n",
      "Amount: 20.0\n",
      "Cost Basis: 2611.0\n",
      "Unit Cost Basis: 130.55\n",
      "Real. PnL: 8371.0\n",
      "Unreal. PnL: -8371.0Value: WIP\n"
     ]
    }
   ],
   "source": [
    "print(pos)"
   ]
  },
  {
   "cell_type": "code",
   "execution_count": null,
   "id": "0f73c1f3-18f0-4cf9-87bf-ce5f065c547f",
   "metadata": {},
   "outputs": [],
   "source": []
  }
 ],
 "metadata": {
  "kernelspec": {
   "display_name": "Python 3 (ipykernel)",
   "language": "python",
   "name": "python3"
  },
  "language_info": {
   "codemirror_mode": {
    "name": "ipython",
    "version": 3
   },
   "file_extension": ".py",
   "mimetype": "text/x-python",
   "name": "python",
   "nbconvert_exporter": "python",
   "pygments_lexer": "ipython3",
   "version": "3.11.3"
  }
 },
 "nbformat": 4,
 "nbformat_minor": 5
}
