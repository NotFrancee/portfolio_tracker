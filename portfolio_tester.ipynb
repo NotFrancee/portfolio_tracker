{
 "cells": [
  {
   "cell_type": "code",
   "execution_count": 214,
   "id": "a85aacee-d10b-41c8-a9f0-bec84dadc699",
   "metadata": {},
   "outputs": [],
   "source": [
    "from alpha_vantage.timeseries import TimeSeries\n",
    "import csv\n",
    "import os\n",
    "import datetime\n",
    "import importlib\n",
    "\n",
    "import excel_interface\n",
    "import portfolio_class\n",
    "import trade_class\n",
    "import position_class\n",
    "import market_interface"
   ]
  },
  {
   "cell_type": "code",
   "execution_count": 223,
   "id": "93b3cf39-3c09-4d0f-b7eb-33524fc0bbc0",
   "metadata": {},
   "outputs": [
    {
     "name": "stdout",
     "output_type": "stream",
     "text": [
      "initializing portfolio...\n",
      "\tcomputed positions...\n",
      "\tupdating mkt prices...\n",
      "\tretrieving prices: AAPL GME ...retrieved all prices\n",
      "...initialized portfolio!\n"
     ]
    }
   ],
   "source": [
    "importlib.reload(excel_interface) \n",
    "importlib.reload(trade_class)\n",
    "importlib.reload(portfolio_class) \n",
    "importlib.reload(position_class)\n",
    "importlib.reload(market_interface)\n",
    "\n",
    "portfolio = portfolio_class.Portfolio()"
   ]
  },
  {
   "cell_type": "code",
   "execution_count": 222,
   "id": "b7d26426-277f-4130-92f7-bf606e87022e",
   "metadata": {},
   "outputs": [
    {
     "data": {
      "text/plain": [
       "3813.800048828125"
      ]
     },
     "execution_count": 222,
     "metadata": {},
     "output_type": "execute_result"
    }
   ],
   "source": [
    "portfolio.positions['AAPL'].mkt_value"
   ]
  },
  {
   "cell_type": "code",
   "execution_count": null,
   "id": "0f73c1f3-18f0-4cf9-87bf-ce5f065c547f",
   "metadata": {},
   "outputs": [],
   "source": []
  }
 ],
 "metadata": {
  "kernelspec": {
   "display_name": "Python 3 (ipykernel)",
   "language": "python",
   "name": "python3"
  },
  "language_info": {
   "codemirror_mode": {
    "name": "ipython",
    "version": 3
   },
   "file_extension": ".py",
   "mimetype": "text/x-python",
   "name": "python",
   "nbconvert_exporter": "python",
   "pygments_lexer": "ipython3",
   "version": "3.11.3"
  }
 },
 "nbformat": 4,
 "nbformat_minor": 5
}
