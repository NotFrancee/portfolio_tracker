{
 "cells": [
  {
   "cell_type": "code",
   "execution_count": 35,
   "id": "a85aacee-d10b-41c8-a9f0-bec84dadc699",
   "metadata": {},
   "outputs": [],
   "source": [
    "from alpha_vantage.timeseries import TimeSeries\n",
    "import csv\n",
    "import os\n",
    "import datetime\n",
    "import importlib\n",
    "\n",
    "import excel_interface\n",
    "import classes.portfolio\n",
    "import classes.trade\n",
    "import classes.position\n",
    "import market_interface"
   ]
  },
  {
   "cell_type": "code",
   "execution_count": 39,
   "id": "93b3cf39-3c09-4d0f-b7eb-33524fc0bbc0",
   "metadata": {},
   "outputs": [
    {
     "name": "stdout",
     "output_type": "stream",
     "text": [
      "initializing portfolio...\n",
      "\tcomputed positions...\n",
      "\tupdating mkt prices...\n",
      "\tretrieving prices: AAPL GME -> retrieved all prices\n",
      "...initialized portfolio!\n"
     ]
    }
   ],
   "source": [
    "importlib.reload(excel_interface) \n",
    "importlib.reload(classes.trade)\n",
    "importlib.reload(classes.portfolio) \n",
    "importlib.reload(classes.position)\n",
    "importlib.reload(market_interface)\n",
    "\n",
    "portfolio = classes.portfolio.Portfolio()"
   ]
  },
  {
   "cell_type": "code",
   "execution_count": 40,
   "id": "b7d26426-277f-4130-92f7-bf606e87022e",
   "metadata": {
    "tags": []
   },
   "outputs": [
    {
     "name": "stdout",
     "output_type": "stream",
     "text": [
      "Summary for Position on AAPL\n",
      "Ticker: AAPL\n",
      "Broker: IBKR\n",
      "Currency: EUR\n",
      "Amount: 20.0\n",
      "Cost Basis: 2611.0\n",
      "Unit Cost Basis: 130.55\n",
      "Last Price: 193.99000549316406\n",
      "Market Value: 3879.8001098632812\n",
      "Unreal. PnL: 1268.8001098632812\n",
      "Real. PnL: 8367.0\n",
      "Active: True\n",
      "----------------------------------------------------------------------------------------------------\n",
      "Trades\n",
      "           action  amount  price  transaction_costs  cost_basis  unit_cost_basis  open_amount\n",
      "date                                                                                         \n",
      "2023-07-12    buy    30.0  150.5                1.0      4516.0       150.533333         30.0\n",
      "2023-07-15    buy    50.0  130.5                1.0      6526.0       130.520000         50.0\n",
      "2023-07-17   sell    60.0  140.0                1.0      8399.0       139.983333         60.0\n",
      "====================================================================================================\n"
     ]
    }
   ],
   "source": [
    "pos = portfolio.positions['AAPL']\n",
    "print(pos)"
   ]
  },
  {
   "cell_type": "code",
   "execution_count": null,
   "id": "0f73c1f3-18f0-4cf9-87bf-ce5f065c547f",
   "metadata": {},
   "outputs": [],
   "source": []
  }
 ],
 "metadata": {
  "kernelspec": {
   "display_name": "Python 3 (ipykernel)",
   "language": "python",
   "name": "python3"
  },
  "language_info": {
   "codemirror_mode": {
    "name": "ipython",
    "version": 3
   },
   "file_extension": ".py",
   "mimetype": "text/x-python",
   "name": "python",
   "nbconvert_exporter": "python",
   "pygments_lexer": "ipython3",
   "version": "3.10.9"
  }
 },
 "nbformat": 4,
 "nbformat_minor": 5
}
